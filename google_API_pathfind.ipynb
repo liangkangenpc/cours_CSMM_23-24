{
 "cells": [
  {
   "cell_type": "code",
   "execution_count": 3,
   "id": "266d8a8b",
   "metadata": {},
   "outputs": [],
   "source": [
    "import requests\n",
    "import json\n",
    "import googlemaps\n",
    "import pandas as pd\n",
    "import geopandas as gpd\n",
    "import numpy as np\n",
    "import matplotlib.pyplot as plt\n",
    "import matplotlib.colors\n",
    "from shapely.geometry import Point, Polygon\n",
    "import shapely.geometry\n",
    "import shapely.wkt\n",
    "from shapely.geometry import LineString\n",
    "from shapely.geometry import shape\n",
    "import seaborn as sns\n",
    "\n",
    "from matplotlib.colors import ListedColormap  \n",
    "from mpl_toolkits.axes_grid1 import make_axes_locatable\n",
    "\n",
    "#from pysal.lib import weights\n",
    "import networkx as nx\n",
    "#import momepy\n",
    "from matplotlib.lines import Line2D\n",
    "import matplotlib.patches as mpatches\n",
    "import matplotlib.lines as mlines\n",
    "\n",
    "import geopy.distance\n",
    "from math import sin, cos, sqrt, atan2, radians\n",
    "from numpy import arcsin as asin\n",
    "from typing import Tuple\n",
    "import mplleaflet\n",
    "import contextily as cx\n",
    "from datetime import datetime\n",
    "import polyline"
   ]
  },
  {
   "cell_type": "code",
   "execution_count": 4,
   "id": "73dbd32f",
   "metadata": {},
   "outputs": [],
   "source": [
    "# enter your api key here\n",
    "api_key = 'your API key '\n",
    "gmaps = googlemaps.Client(key=api_key )"
   ]
  },
  {
   "cell_type": "code",
   "execution_count": 49,
   "id": "9c26cda5",
   "metadata": {},
   "outputs": [],
   "source": [
    "#departure at the current time, origin Kley Champs sur Marne, destinatino CIRED\n",
    "now = datetime.now()\n",
    "directions_result = gmaps.directions(\"Noisy - Champs\", \"CIRED IDF\",\n",
    "                                     mode=\"driving\",\n",
    "                                     departure_time=now)\n",
    "#directions_result"
   ]
  },
  {
   "cell_type": "markdown",
   "id": "ea7b270b",
   "metadata": {},
   "source": [
    "# try to visualise the line"
   ]
  },
  {
   "cell_type": "code",
   "execution_count": 50,
   "id": "39a78dbd",
   "metadata": {},
   "outputs": [
    {
     "name": "stdout",
     "output_type": "stream",
     "text": [
      "Stop:0 Noisy - Champs, Rue des Hauts Châteaux, 93160 Noisy-le-Grand, France ==>  94736 Cédex, 45bis Av. de la Belle Gabrielle, 94130 Nogent-sur-Marne, France distance:  12.1 km traveling Time:  20 mins\n"
     ]
    }
   ],
   "source": [
    "for i, leg in enumerate(directions_result[0][\"legs\"]):\n",
    "    print(\"Stop:\" + str(i),\n",
    "        leg[\"start_address\"], \n",
    "        \"==> \",\n",
    "        leg[\"end_address\"], \n",
    "        \"distance: \",  \n",
    "        leg[\"distance\"][\"text\"], \n",
    "        \"traveling Time: \",\n",
    "        leg[\"duration\"][\"text\"]\n",
    "    )"
   ]
  },
  {
   "cell_type": "code",
   "execution_count": 51,
   "id": "15217c20",
   "metadata": {},
   "outputs": [],
   "source": [
    "# get all the points between the OD\n",
    "marker_points = []\n",
    "waypoints = []\n",
    "trunk = []\n",
    "for leg in directions_result[0][\"legs\"]:\n",
    "    leg_start_loc = leg[\"start_location\"]\n",
    "    marker_points.append(f'{leg_start_loc[\"lat\"]},{leg_start_loc[\"lng\"]}')\n",
    "    for step in leg[\"steps\"]:\n",
    "        end_loc = step[\"end_location\"]                     \n",
    "        waypoints.append(f'{end_loc[\"lat\"]},{end_loc[\"lng\"]}')\n",
    "        \n",
    "        trunk.append(polyline.decode(step['polyline']['points']))\n",
    "        \n",
    "last_stop = directions_result[0][\"legs\"][-1][\"end_location\"]\n",
    "marker_points.append(f'{last_stop[\"lat\"]},{last_stop[\"lng\"]}')"
   ]
  },
  {
   "cell_type": "code",
   "execution_count": 52,
   "id": "0baa2f05",
   "metadata": {},
   "outputs": [],
   "source": [
    "#change the format of the output, adapt to the gmaps format for plotting\n",
    "itinerary = []\n",
    "for curve in trunk:\n",
    "    for point in curve:\n",
    "        itinerary.append(f'{point[0]},{point[1]}')\n",
    "#itinerary   "
   ]
  },
  {
   "cell_type": "code",
   "execution_count": 53,
   "id": "0fd2cab0",
   "metadata": {},
   "outputs": [],
   "source": [
    "markers = [ \"color:blue|size:mid|label:\" + chr(65+i) + \"|\" \n",
    "           + r for i, r in enumerate(marker_points)]\n",
    "result_map = gmaps.static_map(\n",
    "                 center = waypoints[0],\n",
    "                 scale=2, \n",
    "                 zoom=11,\n",
    "                 size=[640, 640], \n",
    "                 format=\"jpg\", \n",
    "                 maptype=\"roadmap\",\n",
    "                 markers=markers,\n",
    "                 path=\"color:blue|weight:3|\" + \"|\".join(itinerary ))"
   ]
  },
  {
   "cell_type": "code",
   "execution_count": 54,
   "id": "b62d11fc",
   "metadata": {},
   "outputs": [],
   "source": [
    "with open(\"car_route_map.jpg\", \"wb\") as img:\n",
    "    for chunk in result_map:\n",
    "        img.write(chunk)"
   ]
  },
  {
   "cell_type": "code",
   "execution_count": null,
   "id": "b610c1ab",
   "metadata": {},
   "outputs": [],
   "source": []
  },
  {
   "cell_type": "code",
   "execution_count": null,
   "id": "e54bf7b9",
   "metadata": {},
   "outputs": [],
   "source": []
  }
 ],
 "metadata": {
  "kernelspec": {
   "display_name": "Python [conda env:my_env]",
   "language": "python",
   "name": "conda-env-my_env-py"
  },
  "language_info": {
   "codemirror_mode": {
    "name": "ipython",
    "version": 3
   },
   "file_extension": ".py",
   "mimetype": "text/x-python",
   "name": "python",
   "nbconvert_exporter": "python",
   "pygments_lexer": "ipython3",
   "version": "3.9.12"
  }
 },
 "nbformat": 4,
 "nbformat_minor": 5
}
